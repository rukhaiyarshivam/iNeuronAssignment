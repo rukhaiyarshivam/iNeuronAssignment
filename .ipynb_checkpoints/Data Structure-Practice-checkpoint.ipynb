{
 "cells": [
  {
   "cell_type": "code",
   "execution_count": 1,
   "metadata": {},
   "outputs": [
    {
     "name": "stdout",
     "output_type": "stream",
     "text": [
      "Available pair is 5 and 1\n",
      "Available pair is 7 and -1\n",
      "2\n"
     ]
    }
   ],
   "source": [
    "#Question-1 - Find the number of target sum from the given list\n",
    "\n",
    "l=[1,-1,2,5,7,9,100]\n",
    "targetSum=6\n",
    "s=set()\n",
    "count=0\n",
    "for i in range(len(l)):\n",
    "    expectedValue=targetSum-l[i]\n",
    "    if expectedValue in s:\n",
    "        count+=1\n",
    "        print(\"Available pair is {0} and {1}\".format(l[i],expectedValue))\n",
    "    s.add(l[i])\n",
    "print(count)\n",
    "\n",
    "\n",
    "        \n",
    "    \n",
    "    "
   ]
  },
  {
   "cell_type": "code",
   "execution_count": 13,
   "metadata": {},
   "outputs": [
    {
     "name": "stdout",
     "output_type": "stream",
     "text": [
      "True\n"
     ]
    }
   ],
   "source": [
    "#Question-2 - Check whether there is a sub array in givn array whose sum is zero\n",
    "# Concept- Subarray has to contigeous which means [a,b,c]\n",
    "# sub arrays can be [a,b,c],[a],[b],[c],[a,b],[b,c]\n",
    "# Point to note that [a,c] This is not a sub array its a sub sequence\n",
    "l=[4,2,-3,1,7]\n",
    "sum=0\n",
    "resultSet=set()\n",
    "prefixList=[0]*len(l)\n",
    "for i in range(len(l)):\n",
    "    if i ==0:\n",
    "        prefixList[i]=l[i]\n",
    "    else:\n",
    "        prefixList[i]=l[i]+prefixList[i-1]\n",
    "for i in prefixList:\n",
    "    if i in resultSet:\n",
    "        print(\"True\")\n",
    "        break\n",
    "    else:\n",
    "        resultSet.add(i)\n",
    "        if 0 in resultSet:\n",
    "            print(\"True\")\n",
    "            break\n",
    "else:\n",
    "    print(\"Sub string doesnt have sum as 0\")"
   ]
  },
  {
   "cell_type": "code",
   "execution_count": 29,
   "metadata": {},
   "outputs": [
    {
     "name": "stdout",
     "output_type": "stream",
     "text": [
      "[(0, 1), (0, 2), (0, 5), (2, 2), (2, 5), (5, 5)]\n"
     ]
    }
   ],
   "source": [
    "#Question -3 - Print all the sub arrays whose sum is zero\n",
    "def getAllZeroesSubset(numbers):\n",
    "    numbers=list(numbers)\n",
    "    n=len(numbers)\n",
    "    prefixList=[0]*n\n",
    "    mapper={}\n",
    "    answers=[]\n",
    "    for i in range(n):\n",
    "        if i==0:\n",
    "            prefixList[i]=numbers[i]\n",
    "        else:\n",
    "            prefixList[i]=prefixList[i-1]+numbers[i]\n",
    "\n",
    "    for i in range(n):\n",
    "        if prefixList[i] not  in mapper.keys():\n",
    "            mapper[prefixList[i]]=[i]\n",
    "        else:\n",
    "            mapper[prefixList[i]].append(i)\n",
    "    for key,value in mapper.items():\n",
    "        if key==0:\n",
    "            for val in value:\n",
    "                answers.append((0,val))\n",
    "            for j in range(len(value)-1):\n",
    "                for k in range(j+1,len(value)):\n",
    "                    answers.append((value[j+1]+1,value[k]))\n",
    "        else:\n",
    "            for j in range(len(value)-1):\n",
    "                for k in range(j+1,len(value)):\n",
    "                    answers.append((value[j]+1, value[k]))\n",
    "    return  answers\n",
    "\n",
    "print(getAllZeroesSubset([1,-1,0,2,2,-4]))\n",
    "                    \n",
    "            \n",
    "    "
   ]
  },
  {
   "cell_type": "code",
   "execution_count": 68,
   "metadata": {},
   "outputs": [
    {
     "name": "stdout",
     "output_type": "stream",
     "text": [
      "[-1, 19, 31, 45, 2, 6, 11, 1, 121, 27, 0]\n",
      "[-1, 0, 31, 45, 19, 6, 11, 2, 121, 27, 1]\n",
      "[-1, 0, 1, 45, 31, 19, 11, 6, 121, 27, 2]\n",
      "[-1, 0, 1, 2, 45, 31, 19, 11, 121, 27, 6]\n",
      "[-1, 0, 1, 2, 6, 45, 31, 19, 121, 27, 11]\n",
      "[-1, 0, 1, 2, 6, 11, 45, 31, 121, 27, 19]\n",
      "[-1, 0, 1, 2, 6, 11, 19, 45, 121, 31, 27]\n",
      "[-1, 0, 1, 2, 6, 11, 19, 27, 121, 45, 31]\n",
      "[-1, 0, 1, 2, 6, 11, 19, 27, 31, 121, 45]\n",
      "[-1, 0, 1, 2, 6, 11, 19, 27, 31, 45, 121]\n"
     ]
    }
   ],
   "source": [
    "# Sorting a list\n",
    "l=[19,2,31,45,1,6,11,-1,121,27,0]\n",
    "count=0\n",
    "for i in range(len(l)-1):\n",
    "    # start comparing from first element\n",
    "    for j in range(i+1,len(l)):\n",
    "        if l[i]>l[j]:\n",
    "            # if 1st element is not the smallest then replace the found\n",
    "            #smallest number with the first element\n",
    "            # this works on the principle that if a number is not less than\n",
    "            # x then it will never be lesser than any number less than x\n",
    "            l[i],l[j]=l[j],l[i]\n",
    "    print(l)\n",
    "\n",
    "\n",
    "    "
   ]
  },
  {
   "cell_type": "code",
   "execution_count": 89,
   "metadata": {},
   "outputs": [
    {
     "name": "stdout",
     "output_type": "stream",
     "text": [
      "[0, 0, 0, 0, 0, 1, 1, 1, 1]\n",
      "[0, 0, 0, 0, 0, 1, 1, 1, 1]\n"
     ]
    }
   ],
   "source": [
    "# Sorting of binary list\n",
    "l=[0,1,1,0,0,0,1,1,0]\n",
    "zeroes=[]\n",
    "ones=[]\n",
    "result=[]\n",
    "for i in l:\n",
    "    if i==0:\n",
    "        zeroes.append(i)\n",
    "        #print(zeroes)\n",
    "        \n",
    "    else:\n",
    "        ones.append(i)\n",
    "        #print(ones)\n",
    "zeroes.extend(ones)\n",
    "print(zeroes)\n",
    "\n",
    "\n",
    "# Alternative\n",
    "start=0\n",
    "i=0\n",
    "while i < len(l):\n",
    "    if l[i]==0:\n",
    "        l[start],l[i]=l[i],l[start]\n",
    "        start+=1\n",
    "    i+=1\n",
    "print(l)\n",
    "        "
   ]
  },
  {
   "cell_type": "code",
   "execution_count": 97,
   "metadata": {},
   "outputs": [
    {
     "name": "stdout",
     "output_type": "stream",
     "text": [
      "{5} {1, 2, 4, 5, 6}\n"
     ]
    }
   ],
   "source": [
    "# Finding duplicate element in limited range array\n",
    "# A limited range array is something that has minimun number as  \n",
    "# and maximum number as len(array)\n",
    "l=[1,5,2,4,5,5,6]  \n",
    "s=set()\n",
    "duplicate=set()\n",
    "for i in range(len(l)):\n",
    "    if l[i] in s:\n",
    "        duplicate.add(l[i])\n",
    "        \n",
    "    s.add(l[i])\n",
    "print(duplicate,s)        \n",
    "    "
   ]
  },
  {
   "cell_type": "code",
   "execution_count": 164,
   "metadata": {},
   "outputs": [],
   "source": [
    "# Find the length of  the larget subarray which sums upto target sum\n",
    "numbers=[5,6,-5,5,3,5,3,-2,0]\n",
    "n=len(numbers)\n",
    "prefixList=[0]*n\n",
    "indexes=[]\n",
    "targetSum=8\n",
    "\n",
    "for i in range(n):\n",
    "    if i ==0:\n",
    "        prefixList[i]=numbers[i]\n",
    "    else:\n",
    "        prefixList[i]=numbers[i]+prefixList[i-1]\n",
    "for i in range(n-1):\n",
    "    for j in range(i+1,n):\n",
    "        if prefixList[j]== prefixList[i]+targetSum :\n",
    "            indexes.append([i,j])\n",
    "            "
   ]
  },
  {
   "cell_type": "code",
   "execution_count": 169,
   "metadata": {},
   "outputs": [],
   "source": [
    "#list with highest range between them is the answer\n",
    "# example here its [1,5] and index for answer will be [1+1,5]\n",
    "ans=[]\n",
    "for i in indexes:\n",
    "    l= range(i[0]+1,i[1]+1) # +1 because range function excludes upper limit\n",
    "    if len(l)>len(ans):\n",
    "        ans=i"
   ]
  },
  {
   "cell_type": "code",
   "execution_count": 170,
   "metadata": {},
   "outputs": [
    {
     "data": {
      "text/plain": [
       "[-5, 5, 3, 5]"
      ]
     },
     "execution_count": 170,
     "metadata": {},
     "output_type": "execute_result"
    }
   ],
   "source": [
    "numbers[ans[0]+1:ans[-1]+1] # +1 because slicing operation excludes upper limit"
   ]
  },
  {
   "cell_type": "code",
   "execution_count": null,
   "metadata": {},
   "outputs": [],
   "source": [
    "#data.scale.map({\"Category1\":\"numericalValue1\"\"Category2\":\"numericalValue2 \"})"
   ]
  },
  {
   "cell_type": "code",
   "execution_count": null,
   "metadata": {},
   "outputs": [],
   "source": []
  },
  {
   "cell_type": "code",
   "execution_count": 196,
   "metadata": {},
   "outputs": [
    {
     "data": {
      "text/plain": [
       "['aa', 'byfyu', 'cljbgyuf6', 'is', 'my', 'name', 'shivam']"
      ]
     },
     "execution_count": 196,
     "metadata": {},
     "output_type": "execute_result"
    }
   ],
   "source": [
    "l"
   ]
  },
  {
   "cell_type": "code",
   "execution_count": null,
   "metadata": {},
   "outputs": [],
   "source": []
  },
  {
   "cell_type": "code",
   "execution_count": null,
   "metadata": {},
   "outputs": [],
   "source": []
  },
  {
   "cell_type": "code",
   "execution_count": null,
   "metadata": {},
   "outputs": [],
   "source": []
  },
  {
   "cell_type": "code",
   "execution_count": null,
   "metadata": {},
   "outputs": [],
   "source": []
  },
  {
   "cell_type": "code",
   "execution_count": null,
   "metadata": {},
   "outputs": [],
   "source": []
  }
 ],
 "metadata": {
  "kernelspec": {
   "display_name": "Python 3",
   "language": "python",
   "name": "python3"
  },
  "language_info": {
   "codemirror_mode": {
    "name": "ipython",
    "version": 3
   },
   "file_extension": ".py",
   "mimetype": "text/x-python",
   "name": "python",
   "nbconvert_exporter": "python",
   "pygments_lexer": "ipython3",
   "version": "3.8.3"
  }
 },
 "nbformat": 4,
 "nbformat_minor": 4
}
