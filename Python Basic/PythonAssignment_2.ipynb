{
 "cells": [
  {
   "cell_type": "markdown",
   "metadata": {},
   "source": [
    "1.What are the two values of the Boolean data type? How do you write them?\n",
    "-> Values for boolean data types are True and False and can be written as \n",
    "a=True\n",
    "b=false"
   ]
  },
  {
   "cell_type": "markdown",
   "metadata": {},
   "source": [
    "2. What are the three different types of Boolean operators?\n",
    "-> and , or and not are three boolean operators in Python"
   ]
  },
  {
   "cell_type": "markdown",
   "metadata": {},
   "source": [
    "3. Truth table\n",
    "\n",
    " X    Y       X and Y\n",
    "- - - - - - - - -- - - -\n",
    "True  True   True\n",
    "\n",
    "True  False False\n",
    "\n",
    "False True  False\n",
    "\n",
    "\n",
    "False False False\n",
    "\n",
    "--------------------------------\n",
    "\n",
    "X       Y         X or Y\n",
    "- - - - - - - - - - - \n",
    "True True   True\n",
    "\n",
    "True False  True\n",
    "\n",
    "False True  True\n",
    "\n",
    "False False False\n",
    "\n",
    "\n",
    "-----------------------------\n",
    "\n",
    "!True -> False\n",
    "\n",
    "\n",
    "!False-> True\n",
    "\n"
   ]
  },
  {
   "cell_type": "code",
   "execution_count": 10,
   "metadata": {},
   "outputs": [
    {
     "name": "stdout",
     "output_type": "stream",
     "text": [
      "False\n",
      "False\n",
      "True\n",
      "False\n",
      "False\n",
      "True\n"
     ]
    }
   ],
   "source": [
    "#4\n",
    "print((5 > 4) and (3 == 5))\n",
    "print(not (5>4))\n",
    "print((5 > 4) or (3 == 5))\n",
    "print(not((5 > 4) or (3 == 5)))\n",
    "print((True and True) and (True == False))\n",
    "print((not False) or (not True))"
   ]
  },
  {
   "cell_type": "code",
   "execution_count": 11,
   "metadata": {},
   "outputs": [],
   "source": [
    "# 5. What are the six comparison operators?\n",
    "# < ,> ,=,<=,>=,!="
   ]
  },
  {
   "cell_type": "code",
   "execution_count": 15,
   "metadata": {},
   "outputs": [],
   "source": [
    "#6. How do you tell the difference between the equal to and assignment operators?Describe a condition and when you would use one.\n",
    "#Equal operator is '==' and assigment operator is '='. \n",
    "#\"==\" is used for comparison and \"=\" is used for assigning value to variable\n"
   ]
  },
  {
   "cell_type": "code",
   "execution_count": 16,
   "metadata": {},
   "outputs": [
    {
     "data": {
      "text/plain": [
       "\"\\nBlock 1- \\nif spam == 10:\\nprint('eggs')\\nBlock 2-\\nif spam > 5:\\nprint('bacon')\\nBlock 3-\\nelse:\\nprint('ham')\\n\""
      ]
     },
     "execution_count": 16,
     "metadata": {},
     "output_type": "execute_result"
    }
   ],
   "source": [
    "#7.\n",
    "\"\"\"\n",
    "Block 1- \n",
    "if spam == 10:\n",
    "print('eggs')\n",
    "Block 2-\n",
    "if spam > 5:\n",
    "print('bacon')\n",
    "Block 3-\n",
    "else:\n",
    "print('ham')\n",
    "\"\"\""
   ]
  },
  {
   "cell_type": "code",
   "execution_count": 17,
   "metadata": {},
   "outputs": [],
   "source": [
    "#8. Write code that prints Hello if 1 is stored in spam, prints Howdy if 2 is stored in spam, and prints Greetings! if anything else is stored in spam."
   ]
  },
  {
   "cell_type": "code",
   "execution_count": 18,
   "metadata": {},
   "outputs": [
    {
     "name": "stdout",
     "output_type": "stream",
     "text": [
      "Enter value of spam2\n",
      "Howdy\n"
     ]
    }
   ],
   "source": [
    "spam=int(input('Enter value of spam'))\n",
    "if spam ==1:\n",
    "    print('Hello')\n",
    "elif spam ==2:\n",
    "    print('Howdy')\n",
    "else:\n",
    "    print('Greetings')"
   ]
  },
  {
   "cell_type": "code",
   "execution_count": 23,
   "metadata": {},
   "outputs": [],
   "source": [
    "#9.If your programme is stuck in an endless loop, what keys you’ll press?\n",
    "# CTRL + C"
   ]
  },
  {
   "cell_type": "code",
   "execution_count": 24,
   "metadata": {},
   "outputs": [],
   "source": [
    "#10. How can you tell the difference between break and continue?\n",
    "# Break exits control from the loop and continue shift control to the starting of the loop and esc the further code exection"
   ]
  },
  {
   "cell_type": "code",
   "execution_count": 26,
   "metadata": {},
   "outputs": [],
   "source": [
    "#11. In a for loop, what is the difference between range(10), range(0, 10), and range(0, 10, 1)?\n",
    "#range(10) - Does not have start point and number of steps it uses default value as 0 for start point and 1 for step\n",
    "#range(0,10) - Does not have step specifies uses the default step as 1\n",
    "#range(0,10,1)- All parameters mentioned\n",
    "\n",
    "# But no difference in implementation in for loop"
   ]
  },
  {
   "cell_type": "code",
   "execution_count": 27,
   "metadata": {},
   "outputs": [],
   "source": [
    "#12. Write a short program that prints the numbers 1 to 10 using a for loop. Then write an equivalent program that prints the numbers 1 to 10 using a while loop."
   ]
  },
  {
   "cell_type": "code",
   "execution_count": null,
   "metadata": {},
   "outputs": [],
   "source": []
  }
 ],
 "metadata": {
  "kernelspec": {
   "display_name": "Python 3",
   "language": "python",
   "name": "python3"
  },
  "language_info": {
   "codemirror_mode": {
    "name": "ipython",
    "version": 3
   },
   "file_extension": ".py",
   "mimetype": "text/x-python",
   "name": "python",
   "nbconvert_exporter": "python",
   "pygments_lexer": "ipython3",
   "version": "3.8.3"
  }
 },
 "nbformat": 4,
 "nbformat_minor": 4
}
