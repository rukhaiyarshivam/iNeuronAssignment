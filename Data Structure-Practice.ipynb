{
 "cells": [
  {
   "cell_type": "code",
   "execution_count": 1,
   "metadata": {},
   "outputs": [
    {
     "name": "stdout",
     "output_type": "stream",
     "text": [
      "Available pair is 5 and 1\n",
      "Available pair is 7 and -1\n",
      "2\n"
     ]
    }
   ],
   "source": [
    "#Question-1 - Find the number of target sum from the given list\n",
    "\n",
    "l=[1,-1,2,5,7,9,100]\n",
    "targetSum=6\n",
    "s=set()\n",
    "count=0\n",
    "for i in range(len(l)):\n",
    "    expectedValue=targetSum-l[i]\n",
    "    if expectedValue in s:\n",
    "        count+=1\n",
    "        print(\"Available pair is {0} and {1}\".format(l[i],expectedValue))\n",
    "    s.add(l[i])\n",
    "print(count)\n",
    "\n",
    "\n",
    "        \n",
    "    \n",
    "    "
   ]
  },
  {
   "cell_type": "code",
   "execution_count": 13,
   "metadata": {},
   "outputs": [
    {
     "name": "stdout",
     "output_type": "stream",
     "text": [
      "True\n"
     ]
    }
   ],
   "source": [
    "#Question-2 - Check whether there is a sub array in givn array whose sum is zero\n",
    "# Concept- Subarray has to contigeous which means [a,b,c]\n",
    "# sub arrays can be [a,b,c],[a],[b],[c],[a,b],[b,c]\n",
    "# Point to note that [a,c] This is not a sub array its a sub sequence\n",
    "l=[4,2,-3,1,7]\n",
    "sum=0\n",
    "resultSet=set()\n",
    "prefixList=[0]*len(l)\n",
    "for i in range(len(l)):\n",
    "    if i ==0:\n",
    "        prefixList[i]=l[i]\n",
    "    else:\n",
    "        prefixList[i]=l[i]+prefixList[i-1]\n",
    "for i in prefixList:\n",
    "    if i in resultSet:\n",
    "        print(\"True\")\n",
    "        break\n",
    "    else:\n",
    "        resultSet.add(i)\n",
    "        if 0 in resultSet:\n",
    "            print(\"True\")\n",
    "            break\n",
    "else:\n",
    "    print(\"Sub string doesnt have sum as 0\")"
   ]
  },
  {
   "cell_type": "code",
   "execution_count": 29,
   "metadata": {},
   "outputs": [
    {
     "name": "stdout",
     "output_type": "stream",
     "text": [
      "[(0, 1), (0, 2), (0, 5), (2, 2), (2, 5), (5, 5)]\n"
     ]
    }
   ],
   "source": [
    "#Question -3 - Print all the sub arrays whose sum is zero\n",
    "def getAllZeroesSubset(numbers):\n",
    "    numbers=list(numbers)\n",
    "    n=len(numbers)\n",
    "    prefixList=[0]*n\n",
    "    mapper={}\n",
    "    answers=[]\n",
    "    for i in range(n):\n",
    "        if i==0:\n",
    "            prefixList[i]=numbers[i]\n",
    "        else:\n",
    "            prefixList[i]=prefixList[i-1]+numbers[i]\n",
    "\n",
    "    for i in range(n):\n",
    "        if prefixList[i] not  in mapper.keys():\n",
    "            mapper[prefixList[i]]=[i]\n",
    "        else:\n",
    "            mapper[prefixList[i]].append(i)\n",
    "    for key,value in mapper.items():\n",
    "        if key==0:\n",
    "            for val in value:\n",
    "                answers.append((0,val))\n",
    "            for j in range(len(value)-1):\n",
    "                for k in range(j+1,len(value)):\n",
    "                    answers.append((value[j+1]+1,value[k]))\n",
    "        else:\n",
    "            for j in range(len(value)-1):\n",
    "                for k in range(j+1,len(value)):\n",
    "                    answers.append((value[j]+1, value[k]))\n",
    "    return  answers\n",
    "\n",
    "print(getAllZeroesSubset([1,-1,0,2,2,-4]))\n",
    "                    \n",
    "            \n",
    "    "
   ]
  },
  {
   "cell_type": "code",
   "execution_count": 68,
   "metadata": {},
   "outputs": [
    {
     "name": "stdout",
     "output_type": "stream",
     "text": [
      "[-1, 19, 31, 45, 2, 6, 11, 1, 121, 27, 0]\n",
      "[-1, 0, 31, 45, 19, 6, 11, 2, 121, 27, 1]\n",
      "[-1, 0, 1, 45, 31, 19, 11, 6, 121, 27, 2]\n",
      "[-1, 0, 1, 2, 45, 31, 19, 11, 121, 27, 6]\n",
      "[-1, 0, 1, 2, 6, 45, 31, 19, 121, 27, 11]\n",
      "[-1, 0, 1, 2, 6, 11, 45, 31, 121, 27, 19]\n",
      "[-1, 0, 1, 2, 6, 11, 19, 45, 121, 31, 27]\n",
      "[-1, 0, 1, 2, 6, 11, 19, 27, 121, 45, 31]\n",
      "[-1, 0, 1, 2, 6, 11, 19, 27, 31, 121, 45]\n",
      "[-1, 0, 1, 2, 6, 11, 19, 27, 31, 45, 121]\n"
     ]
    }
   ],
   "source": [
    "# Sorting a list\n",
    "l=[19,2,31,45,1,6,11,-1,121,27,0]\n",
    "count=0\n",
    "for i in range(len(l)-1):\n",
    "    # start comparing from first element\n",
    "    for j in range(i+1,len(l)):\n",
    "        if l[i]>l[j]:\n",
    "            # if 1st element is not the smallest then replace the found\n",
    "            #smallest number with the first element\n",
    "            # this works on the principle that if a number is not less than\n",
    "            # x then it will never be lesser than any number less than x\n",
    "            l[i],l[j]=l[j],l[i]\n",
    "    print(l)\n",
    "\n",
    "\n",
    "    "
   ]
  },
  {
   "cell_type": "code",
   "execution_count": 89,
   "metadata": {},
   "outputs": [
    {
     "name": "stdout",
     "output_type": "stream",
     "text": [
      "[0, 0, 0, 0, 0, 1, 1, 1, 1]\n",
      "[0, 0, 0, 0, 0, 1, 1, 1, 1]\n"
     ]
    }
   ],
   "source": [
    "# Sorting of binary list\n",
    "l=[0,1,1,0,0,0,1,1,0]\n",
    "zeroes=[]\n",
    "ones=[]\n",
    "result=[]\n",
    "for i in l:\n",
    "    if i==0:\n",
    "        zeroes.append(i)\n",
    "        #print(zeroes)\n",
    "        \n",
    "    else:\n",
    "        ones.append(i)\n",
    "        #print(ones)\n",
    "zeroes.extend(ones)\n",
    "print(zeroes)\n",
    "\n",
    "\n",
    "# Alternative\n",
    "start=0\n",
    "i=0\n",
    "while i < len(l):\n",
    "    if l[i]==0:\n",
    "        l[start],l[i]=l[i],l[start]\n",
    "        start+=1\n",
    "    i+=1\n",
    "print(l)\n",
    "        "
   ]
  },
  {
   "cell_type": "code",
   "execution_count": 97,
   "metadata": {},
   "outputs": [
    {
     "name": "stdout",
     "output_type": "stream",
     "text": [
      "{5} {1, 2, 4, 5, 6}\n"
     ]
    }
   ],
   "source": [
    "# Finding duplicate element in limited range array\n",
    "# A limited range array is something that has minimun number as  \n",
    "# and maximum number as len(array)\n",
    "l=[1,5,2,4,5,5,6]  \n",
    "s=set()\n",
    "duplicate=set()\n",
    "for i in range(len(l)):\n",
    "    if l[i] in s:\n",
    "        duplicate.add(l[i])\n",
    "        \n",
    "    s.add(l[i])\n",
    "print(duplicate,s)        \n",
    "    "
   ]
  },
  {
   "cell_type": "code",
   "execution_count": 164,
   "metadata": {},
   "outputs": [],
   "source": [
    "# Find the length of  the larget subarray which sums upto target sum\n",
    "numbers=[5,6,-5,5,3,5,3,-2,0]\n",
    "n=len(numbers)\n",
    "prefixList=[0]*n\n",
    "indexes=[]\n",
    "targetSum=8\n",
    "\n",
    "for i in range(n):\n",
    "    if i ==0:\n",
    "        prefixList[i]=numbers[i]\n",
    "    else:\n",
    "        prefixList[i]=numbers[i]+prefixList[i-1]\n",
    "for i in range(n-1):\n",
    "    for j in range(i+1,n):\n",
    "        if prefixList[j]== prefixList[i]+targetSum :\n",
    "            indexes.append([i,j])\n",
    "            "
   ]
  },
  {
   "cell_type": "code",
   "execution_count": 169,
   "metadata": {},
   "outputs": [],
   "source": [
    "#list with highest range between them is the answer\n",
    "# example here its [1,5] and index for answer will be [1+1,5]\n",
    "ans=[]\n",
    "for i in indexes:\n",
    "    l= range(i[0]+1,i[1]+1) # +1 because range function excludes upper limit\n",
    "    if len(l)>len(ans):\n",
    "        ans=i"
   ]
  },
  {
   "cell_type": "code",
   "execution_count": 170,
   "metadata": {},
   "outputs": [
    {
     "data": {
      "text/plain": [
       "[-5, 5, 3, 5]"
      ]
     },
     "execution_count": 170,
     "metadata": {},
     "output_type": "execute_result"
    }
   ],
   "source": [
    "numbers[ans[0]+1:ans[-1]+1] # +1 because slicing operation excludes upper limit"
   ]
  },
  {
   "cell_type": "code",
   "execution_count": null,
   "metadata": {},
   "outputs": [],
   "source": [
    "#data.scale.map({\"Category1\":\"numericalValue1\"\"Category2\":\"numericalValue2 \"})"
   ]
  },
  {
   "cell_type": "code",
   "execution_count": null,
   "metadata": {},
   "outputs": [],
   "source": [
    "# Find the max length of sub array with equal number of 0's and 1's"
   ]
  },
  {
   "cell_type": "code",
   "execution_count": 251,
   "metadata": {},
   "outputs": [
    {
     "name": "stdout",
     "output_type": "stream",
     "text": [
      "Max product of pair of numbers with brute force is 75\n",
      "Max product with sorting approach is 75\n"
     ]
    }
   ],
   "source": [
    "# Fin the maximum product of 2 numbers from hiven list\n",
    "l=[-10,-2,-3,5,15,0]\n",
    "maxProduct=0\n",
    "#approach -1 Brute Force approach\n",
    "for i in range(len(l)-1):\n",
    "    for j in range(i+1,len(l)):\n",
    "        prod=l[i]*l[j]\n",
    "        #print(prod)\n",
    "        if prod>maxProduct:\n",
    "            maxProduct=prod\n",
    "print(\"Max product of pair of numbers with brute force is {}\".format(maxProduct))\n",
    "\n",
    "\n",
    "# approach -2 Sorting approach\n",
    "maxProduct=0\n",
    "for i in range(len(l)-1):\n",
    "    for j in range(i+1,len(l)):\n",
    "        if l[j]<l[i]:\n",
    "            l[i],l[j]=l[j],l[i]\n",
    "maxProduct=max(l[0]*l[1],l[-1]*l[-2])          \n",
    "print(\"Max product with sorting approach is {}\".format(maxProduct))"
   ]
  },
  {
   "cell_type": "code",
   "execution_count": 266,
   "metadata": {},
   "outputs": [
    {
     "name": "stdout",
     "output_type": "stream",
     "text": [
      "[1, 2, 3, 5, 7, 8, 15, 19]\n"
     ]
    }
   ],
   "source": [
    "# Inplace merge of 2 sorted array - Brute Force Approach\n",
    "\n",
    "l1=[2,3,5,19]\n",
    "l2=[1,7,8,15]\n",
    "\n",
    "for i in range(len(l2)):\n",
    "    for j in range(len(l1)):\n",
    "        if l2[i]<l1[j]:\n",
    "            l1.insert(j,l2[i])\n",
    "            break\n",
    "    else:\n",
    "        l1.append(l2[i])\n",
    "            \n",
    "print(l1)"
   ]
  },
  {
   "cell_type": "code",
   "execution_count": 277,
   "metadata": {},
   "outputs": [
    {
     "name": "stdout",
     "output_type": "stream",
     "text": [
      "4\n"
     ]
    }
   ],
   "source": [
    "# Find index to replace only one zero from list to get max len of ones\n",
    "l=[0,1,0,1,0,1,1]\n",
    "count=0\n",
    "max_count=0\n",
    "prevZeroIndex=-1\n",
    "answer=-1\n",
    "for i in range(len(l)):\n",
    "    if l[i]==1:\n",
    "        count+=1\n",
    "        #This gives the current count consicutive ones\n",
    "        #This way of consicutive ones is used when one can occur at the end\n",
    "        # and the last element is reached and no zero is there to break the check\n",
    "        # but loop execution will only stop the check\n",
    "    else:\n",
    "        # its not zero\n",
    "        # once a zero is fount the consicutive one cycle breaks\n",
    "        # and total consicutive count is calculated as this is also one \n",
    "        # of the way to do that\n",
    "        count=i-prevZeroIndex\n",
    "        prevZeroIndex=i # this will not get updated when cehck break if the loop execution will stop in this caseit will\n",
    "                        # have for ist zero\n",
    "        \n",
    "    #This condition checks for max count condition\n",
    "    #Check the current count of consicutive one is more or not from \n",
    "    # the last count\n",
    "    # Now if its greater than last count\n",
    "    #Condition 1- Has both zero before the 1st one and zero after last one \n",
    "    #          replace any one can give us answer\n",
    "    #Condition 2- No zero before only after \n",
    "    #Condition 3 - No zero after only before This is when ones occurs at last but there wont be problem as the \n",
    "    #            Loop execution will only stop\n",
    "    if count > max_count:\n",
    "        max_count=count\n",
    "        answer=prevZeroIndex # This gives answer for the place where loop execution break and zero is fount\n",
    "        # This returns value of starting with zero if check breaks due to loop execution is completed\n",
    "        \n",
    "print(answer)"
   ]
  },
  {
   "cell_type": "code",
   "execution_count": 8,
   "metadata": {},
   "outputs": [
    {
     "name": "stdout",
     "output_type": "stream",
     "text": [
      "[3, 5, 2, 4, 1]\n",
      "[1, 2, 3, 4, 5]\n"
     ]
    }
   ],
   "source": [
    "# Shuffle a list\n",
    "# To suffle a list need to import ransom module of python this can also be done using numpy\n",
    "import random\n",
    "l=[1,2,3,4,5]\n",
    "n=len(l)\n",
    "suffleList=[]\n",
    "shuffleIndex=random.sample(range(0,n),n) # Generate a random list from a given range\n",
    "for i in shuffleIndex:\n",
    "    suffleList.append(l[i])\n",
    "    \n",
    "print(suffleList)\n",
    "\n",
    "\n",
    "#Alternative\n",
    "#No additional object created\n",
    "for i in range(len(l)):\n",
    "    index=random.randint(0,len(l)-1) # generate random number b/w range both inclusive\n",
    "    l[i],l[index]=l[index],l[i]\n",
    "print(l)"
   ]
  },
  {
   "cell_type": "code",
   "execution_count": 6,
   "metadata": {},
   "outputs": [
    {
     "data": {
      "text/plain": [
       "3"
      ]
     },
     "execution_count": 6,
     "metadata": {},
     "output_type": "execute_result"
    }
   ],
   "source": [
    "# Finding febonacci series for n\n",
    "# febonacci series as per definition for n will be\n",
    "# feb(n-1)+feb(n-2)\n",
    "\n",
    "# Lets use recursion for this\n",
    "\n",
    "# Febonacci series : 0,1,1,2,3,5,8\n",
    "                    #(0,1 are starting element) rest (n-1)+(n-2)\n",
    "def febonacci(n):\n",
    "    if n==0:\n",
    "        return 0\n",
    "    elif n==1:\n",
    "        return 1\n",
    "    else:\n",
    "        return febonacci(n-1)+febonacci(n-2)\n",
    "febonacci(4)  "
   ]
  },
  {
   "cell_type": "code",
   "execution_count": 13,
   "metadata": {},
   "outputs": [
    {
     "name": "stdout",
     "output_type": "stream",
     "text": [
      "1\n",
      "2\n",
      "3\n",
      "4\n",
      "5\n"
     ]
    }
   ],
   "source": [
    "# Print number 1 to n using recursion:\n",
    "def printNumber(n):\n",
    "    if n==1: # Base condition\n",
    "        print(n)\n",
    "        return\n",
    "    else:\n",
    "        printNumber(n-1) # Call\n",
    "        print(n) # Printing the number which made the call to get the sequence\n",
    "printNumber(5)\n",
    "    "
   ]
  },
  {
   "cell_type": "code",
   "execution_count": 18,
   "metadata": {},
   "outputs": [
    {
     "name": "stdout",
     "output_type": "stream",
     "text": [
      "5\n",
      "4\n",
      "3\n",
      "2\n",
      "1\n"
     ]
    }
   ],
   "source": [
    "# Print number n to 1 using recursion:\n",
    "def printNumberRev(n):\n",
    "    print(n) # print the highest number\n",
    "    if n==1:\n",
    "        return  # Base condition to stop execution\n",
    "    printNumberRev(n-1) # call to print the highest number after n and so on\n",
    "printNumberRev(5)"
   ]
  },
  {
   "cell_type": "code",
   "execution_count": 19,
   "metadata": {},
   "outputs": [
    {
     "name": "stdout",
     "output_type": "stream",
     "text": [
      "120\n"
     ]
    }
   ],
   "source": [
    "# Get factorisl using recuession\n",
    "# 5! = 5*4! , 4!=4*3! \n",
    "# Thus factorial of n-1 is a recurssive action so solve it using recursion\n",
    "def factorial(n):\n",
    "    if n==1: \n",
    "        return 1 # Base condition\n",
    "    return factorial(n-1)*n\n",
    "\n",
    "print(factorial(5))"
   ]
  },
  {
   "cell_type": "code",
   "execution_count": 10,
   "metadata": {},
   "outputs": [],
   "source": [
    "# Reverese a array using recursion\n",
    "#rev of [1,2,3]-> rev of[2,3]+append 1\n",
    "# rev od [2,3]-> rev of [3]+append 2\n",
    "#rev of [3] -> no further call append to result and return\n",
    "result=[]\n",
    "def reverseArray(a): \n",
    "    if len(a)==1:\n",
    "        result.append(a[0])\n",
    "        return\n",
    "    reverseArray(a[1:])\n",
    "    result.append(a[0])\n",
    "    "
   ]
  },
  {
   "cell_type": "code",
   "execution_count": 11,
   "metadata": {},
   "outputs": [
    {
     "data": {
      "text/plain": [
       "[3, 2, 1]"
      ]
     },
     "execution_count": 11,
     "metadata": {},
     "output_type": "execute_result"
    }
   ],
   "source": [
    "reverseArray([1,2,3])\n",
    "result"
   ]
  },
  {
   "cell_type": "code",
   "execution_count": 1,
   "metadata": {},
   "outputs": [
    {
     "name": "stdout",
     "output_type": "stream",
     "text": [
      "{'b', 'bd', 'ac', 'abc', 'abcd', 'bc', 'c', 'ab', 'ad', 'cd', 'd', 'a', 'bcd'}\n"
     ]
    }
   ],
   "source": [
    "# All combinations of a string\n",
    "# in combination order doesnt matter ab == ba\n",
    "input=\"abcd\"\n",
    "s=set()\n",
    "for i in range(len(input)):\n",
    "    s.add(input[i])\n",
    "    for j in range(i+1,len(input)):\n",
    "        s.add(input[i]+input[j]) # Between the word\n",
    "        s.add(input[i:j+1])     # Between the range\n",
    "\n",
    "print(s)"
   ]
  },
  {
   "cell_type": "code",
   "execution_count": 32,
   "metadata": {},
   "outputs": [
    {
     "name": "stdout",
     "output_type": "stream",
     "text": [
      "{'b', 'abc', 'c', 'ab', 'a', 'bc'}\n"
     ]
    }
   ],
   "source": [
    "# All possible substring \n",
    "# in permutation ab!=ba\n",
    "input=\"abc\"\n",
    "s=set()\n",
    "for i in range(len(input)):\n",
    "    s.add(input[i])\n",
    "    for j in range(i+1,len(input)):\n",
    "        if i==j:\n",
    "            continue\n",
    "        #s.add(input[i]+input[j]) # no word combination as substring must be continious\n",
    "        s.add(input[i:j+1])     # Between the range\n",
    "print(s)"
   ]
  },
  {
   "cell_type": "code",
   "execution_count": 40,
   "metadata": {},
   "outputs": [],
   "source": [
    "# Get all possible subssets from a string\n",
    "# using recurssion approach\n",
    "def possibleSubsets(input,output):\n",
    "    if len(output)==0:\n",
    "        print(\"String\",input)\n",
    "        return\n",
    "    possibleSubsets(output[0]+input,output[1:])\n",
    "    possibleSubsets(input,output[1:])\n"
   ]
  },
  {
   "cell_type": "code",
   "execution_count": 41,
   "metadata": {},
   "outputs": [
    {
     "name": "stdout",
     "output_type": "stream",
     "text": [
      "String cba\n",
      "String ba\n",
      "String ca\n",
      "String a\n",
      "String cb\n",
      "String b\n",
      "String c\n",
      "String \n"
     ]
    }
   ],
   "source": [
    "possibleSubsets(\"\",\"abc\")"
   ]
  },
  {
   "cell_type": "code",
   "execution_count": 6,
   "metadata": {},
   "outputs": [],
   "source": [
    "# Get all unique possible subssets from a string\n",
    "# using recurssion approach\n",
    "res=set()\n",
    "def possibleUniqueSub(input,output):\n",
    "    if len(output)==0:\n",
    "        #print(\"String\",input)\n",
    "        res.add(input)\n",
    "        return\n",
    "    possibleUniqueSub(output[0]+input,output[1:])\n",
    "    possibleUniqueSub(input,output[1:])"
   ]
  },
  {
   "cell_type": "code",
   "execution_count": 7,
   "metadata": {},
   "outputs": [],
   "source": [
    "possibleUniqueSub(\"\",\"abbbb\")"
   ]
  },
  {
   "cell_type": "code",
   "execution_count": 8,
   "metadata": {},
   "outputs": [
    {
     "data": {
      "text/plain": [
       "{'', 'a', 'b', 'ba', 'bb', 'bba', 'bbb', 'bbba', 'bbbb', 'bbbba'}"
      ]
     },
     "execution_count": 8,
     "metadata": {},
     "output_type": "execute_result"
    }
   ],
   "source": [
    "res"
   ]
  },
  {
   "cell_type": "code",
   "execution_count": 52,
   "metadata": {},
   "outputs": [],
   "source": [
    "def permutaionWithSpace(input,output):\n",
    "    space=\" \"\n",
    "    if len(input)==0:\n",
    "        print('String',output)\n",
    "        return\n",
    "    permutaionWithSpace(input[1:],output+space+input[0]) \n",
    "    # abc ,'_'     ab c_\n",
    "    #bc ,a_        a b_c_\n",
    "    #c  ,ba_       a_b_c\n",
    "    #'' ,cba_\n",
    "    permutaionWithSpace(input[1:],output+input[0])\n",
    "    # abc\n",
    "    \n",
    "    "
   ]
  },
  {
   "cell_type": "code",
   "execution_count": 53,
   "metadata": {},
   "outputs": [
    {
     "name": "stdout",
     "output_type": "stream",
     "text": [
      "String a b c\n",
      "String a bc\n",
      "String ab c\n",
      "String abc\n"
     ]
    }
   ],
   "source": [
    "permutaionWithSpace('bc','a')"
   ]
  },
  {
   "cell_type": "code",
   "execution_count": 57,
   "metadata": {},
   "outputs": [
    {
     "name": "stdout",
     "output_type": "stream",
     "text": [
      "AB\n",
      "Ab\n",
      "aB\n",
      "ab\n"
     ]
    }
   ],
   "source": [
    "# Permutaion of all character case\n",
    "\n",
    "def permutationByCase(input,output):\n",
    "    if len(input) == 1:\n",
    "        print(output)\n",
    "        return\n",
    "    permutationByCase(input[1:],output+input[0].upper())\n",
    "    permutationByCase(input[1:],output+input[0].lower())\n",
    "permutationByCase(\"abc\",\"\")"
   ]
  },
  {
   "cell_type": "code",
   "execution_count": 60,
   "metadata": {},
   "outputs": [
    {
     "data": {
      "text/plain": [
       "16"
      ]
     },
     "execution_count": 60,
     "metadata": {},
     "output_type": "execute_result"
    }
   ],
   "source": [
    "# Power of 2 using recursion\n",
    "\n",
    "def powerOfTwo(power):\n",
    "    if power==0:\n",
    "        return 1\n",
    "    return 2*powerOfTwo(power-1)\n",
    "powerOfTwo(4)"
   ]
  },
  {
   "cell_type": "code",
   "execution_count": 78,
   "metadata": {},
   "outputs": [
    {
     "name": "stdout",
     "output_type": "stream",
     "text": [
      "reverse is  654\n"
     ]
    }
   ],
   "source": [
    "# Reverse a number\n",
    "\n",
    "i= 456\n",
    "rev=0\n",
    "while(i!=0):\n",
    "    r=i%10\n",
    "    i=i//10\n",
    "    rev=10*rev+r\n",
    "\n",
    "print(\"reverse is \",rev)\n"
   ]
  },
  {
   "cell_type": "code",
   "execution_count": 74,
   "metadata": {},
   "outputs": [
    {
     "data": {
      "text/plain": [
       "65"
      ]
     },
     "execution_count": 74,
     "metadata": {},
     "output_type": "execute_result"
    }
   ],
   "source": [
    "rev"
   ]
  },
  {
   "cell_type": "code",
   "execution_count": null,
   "metadata": {},
   "outputs": [],
   "source": []
  }
 ],
 "metadata": {
  "kernelspec": {
   "display_name": "Python 3",
   "language": "python",
   "name": "python3"
  },
  "language_info": {
   "codemirror_mode": {
    "name": "ipython",
    "version": 3
   },
   "file_extension": ".py",
   "mimetype": "text/x-python",
   "name": "python",
   "nbconvert_exporter": "python",
   "pygments_lexer": "ipython3",
   "version": "3.8.3"
  }
 },
 "nbformat": 4,
 "nbformat_minor": 4
}
